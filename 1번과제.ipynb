{
  "nbformat": 4,
  "nbformat_minor": 0,
  "metadata": {
    "colab": {
      "provenance": [],
      "authorship_tag": "ABX9TyMvM93b8my+DB5JEsO9v520",
      "include_colab_link": true
    },
    "kernelspec": {
      "name": "python3",
      "display_name": "Python 3"
    },
    "language_info": {
      "name": "python"
    }
  },
  "cells": [
    {
      "cell_type": "markdown",
      "metadata": {
        "id": "view-in-github",
        "colab_type": "text"
      },
      "source": [
        "<a href=\"https://colab.research.google.com/github/Radiohead010101/summer_assignment/blob/main/1%EB%B2%88%EA%B3%BC%EC%A0%9C.ipynb\" target=\"_parent\"><img src=\"https://colab.research.google.com/assets/colab-badge.svg\" alt=\"Open In Colab\"/></a>"
      ]
    },
    {
      "cell_type": "code",
      "execution_count": null,
      "metadata": {
        "id": "0F2TVps0uUgu"
      },
      "outputs": [],
      "source": [
        "import os\n",
        "import random\n",
        "from glob import glob\n",
        "from PIL import Image\n",
        "from tqdm import tqdm\n",
        "from google.colab import drive\n",
        "import matplotlib.pyplot as plt\n",
        "import torch\n",
        "import torch.nn as nn\n",
        "from torch.utils.data import Dataset, DataLoader\n",
        "import torchvision.transforms.functional as TF\n",
        "import torchvision.transforms as T\n",
        "from torchvision.transforms import ToPILImage"
      ]
    },
    {
      "cell_type": "code",
      "source": [
        "drive.mount('/content/drive')\n",
        "\n",
        "device = torch.device('cuda' if torch.cuda.is_available() else 'cpu')\n",
        "print(f\"Device : {device}\")"
      ],
      "metadata": {
        "colab": {
          "base_uri": "https://localhost:8080/"
        },
        "id": "jBSko99duawK",
        "outputId": "cd402501-218a-42f2-877b-4ac975b67e0d"
      },
      "execution_count": null,
      "outputs": [
        {
          "output_type": "stream",
          "name": "stdout",
          "text": [
            "Mounted at /content/drive\n",
            "Device : cpu\n"
          ]
        }
      ]
    },
    {
      "cell_type": "code",
      "source": [
        "class DIV2K_Dataset(Dataset):\n",
        "    def __init__(self, imgs, crop_size=64, upscale_factor=2):\n",
        "        self.imgs = imgs\n",
        "        self.crop_size = crop_size\n",
        "        self.upscale_factor = upscale_factor\n",
        "\n",
        "    def __len__(self):\n",
        "        return len(self.imgs)\n",
        "\n",
        "    def __getitem__(self, i):\n",
        "        x, y = self.__transform__(i)\n",
        "        return x, y\n",
        "\n",
        "    def __transform__(self, i):\n",
        "        p = self.imgs[i]\n",
        "        img = Image.open(p).convert(\"RGB\")\n",
        "        x = T.CenterCrop(self.crop_size)(img)\n",
        "        rate = self.crop_size // self.upscale_factor\n",
        "        x_size = (rate, rate)\n",
        "        y = TF.resize(x, x_size, interpolation=Image.BICUBIC)\n",
        "        y = TF.resize(y, (self.crop_size, self.crop_size), interpolation=Image.BICUBIC)\n",
        "        x_t = TF.to_tensor(x)\n",
        "        y_t = TF.to_tensor(y)\n",
        "        return x_t, y_t\n",
        "\n",
        "\n",
        "DATA_ROOT = '/content/drive/MyDrive/MyDrive/DIV2K_519sampled/DIV2K_519sampled'\n",
        "all_imgs = [os.path.join(DATA_ROOT, f) for f in os.listdir(DATA_ROOT) if f.lower().endswith(('.png'))]\n",
        "print(f\"Found {len(all_imgs)} images.\")\n",
        "\n",
        "random.shuffle(all_imgs)\n",
        "train_imgs = all_imgs[:363]\n",
        "val_imgs = all_imgs[363:363 + 104]\n",
        "test_imgs = all_imgs[363 + 104:363 + 104 + 52]\n",
        "\n",
        "print(f\"Train images: {len(train_imgs)}\")\n",
        "print(f\"Validation images: {len(val_imgs)}\")\n",
        "print(f\"Test images: {len(test_imgs)}\")\n",
        "\n",
        "train_ds = DIV2K_Dataset(train_imgs)\n",
        "val_ds = DIV2K_Dataset(val_imgs)\n",
        "test_ds = DIV2K_Dataset(test_imgs)"
      ],
      "metadata": {
        "colab": {
          "base_uri": "https://localhost:8080/"
        },
        "id": "wHzdxP0Du1l9",
        "outputId": "98a9ddbd-5178-4acd-c17a-85c4fd6392ae"
      },
      "execution_count": null,
      "outputs": [
        {
          "output_type": "stream",
          "name": "stdout",
          "text": [
            "Found 519 images.\n",
            "Train images: 363\n",
            "Validation images: 104\n",
            "Test images: 52\n"
          ]
        }
      ]
    },
    {
      "cell_type": "code",
      "source": [
        "class SR_CNN(nn.Module):\n",
        "    def __init__(self, in_channels=3):\n",
        "        super().__init__()\n",
        "        self.darknet = nn.Sequential(\n",
        "            nn.Conv2d(in_channels, 64, 9, 1, 4),\n",
        "            nn.ReLU(True),\n",
        "            nn.Conv2d(64, 32, 1, 1, 0),\n",
        "            nn.ReLU(True),\n",
        "            nn.Conv2d(32, in_channels, 5, 1, 2)\n",
        "        )\n",
        "\n",
        "    def forward(self, x):\n",
        "        return self.darknet(x)"
      ],
      "metadata": {
        "id": "bmaQKzYRvCfo"
      },
      "execution_count": null,
      "outputs": []
    },
    {
      "cell_type": "code",
      "source": [
        "EPOCHS = 50\n",
        "BATCH_SIZE = 32\n",
        "LEARNING_RATE = 0.001\n",
        "NUM_WORKERS = os.cpu_count() // 2\n",
        "model = SR_CNN().to(device)\n",
        "loss_fn = nn.MSELoss()\n",
        "optimizer = torch.optim.Adam(model.parameters(), lr=LEARNING_RATE)\n",
        "\n",
        "train_loader = DataLoader(train_ds, batch_size=BATCH_SIZE, shuffle=True, num_workers=NUM_WORKERS, pin_memory=True, drop_last=True)\n",
        "val_loader = DataLoader(val_ds, batch_size=BATCH_SIZE, shuffle=True, num_workers=NUM_WORKERS, pin_memory=True, drop_last=True)\n",
        "test_loader = DataLoader(test_ds, batch_size=1, shuffle=False, num_workers=1)\n",
        "\n",
        "train_losses = []\n",
        "val_losses = []\n",
        "\n",
        "best_val_loss = float('inf')\n",
        "best_epoch = 0\n",
        "best_model_state = None\n",
        "best_optim_state = None\n",
        "\n",
        "for epoch in range(1, EPOCHS+1):\n",
        "    model.train()\n",
        "    train_loss = 0.0\n",
        "    for lr_t, hr_t in train_loader:\n",
        "        lr_t = lr_t.to(device)\n",
        "        hr_t = hr_t.to(device)\n",
        "        optimizer.zero_grad()\n",
        "        out = model(lr_t)\n",
        "        loss = loss_fn(out, hr_t)\n",
        "        loss.backward()\n",
        "        optimizer.step()\n",
        "        train_loss += loss.item() * lr_t.size(0)\n",
        "    train_loss /= len(train_loader.dataset)\n",
        "\n",
        "    model.eval()\n",
        "    val_loss = 0.0\n",
        "    with torch.no_grad():\n",
        "        for lr_t, hr_t in val_loader:\n",
        "            lr_t = lr_t.to(device)\n",
        "            hr_t = hr_t.to(device)\n",
        "            out = model(lr_t)\n",
        "            loss = loss_fn(out, hr_t)\n",
        "            val_loss += loss.item() * lr_t.size(0)\n",
        "    val_loss /= len(val_loader.dataset)\n",
        "\n",
        "    print(f\"Epoch {epoch:02d}  Train loss: {train_loss:.6f}  Val loss: {val_loss:.6f}\")\n",
        "\n",
        "    if val_loss < best_val_loss:\n",
        "        print(f\"Validation loss improved from {best_val_loss:.6f} to {val_loss:.6f}\")\n",
        "        best_val_loss = val_loss\n",
        "        best_epoch = epoch\n",
        "        best_model_state = model.state_dict()\n",
        "        best_optim_state = optimizer.state_dict()"
      ],
      "metadata": {
        "colab": {
          "base_uri": "https://localhost:8080/"
        },
        "id": "-qLwJ0Dzu5C3",
        "outputId": "9092e77a-9d93-4211-bab6-41d66a0d0293"
      },
      "execution_count": null,
      "outputs": [
        {
          "output_type": "stream",
          "name": "stderr",
          "text": [
            "/usr/local/lib/python3.12/dist-packages/torch/utils/data/dataloader.py:666: UserWarning: 'pin_memory' argument is set as true but no accelerator is found, then device pinned memory won't be used.\n",
            "  warnings.warn(warn_msg)\n"
          ]
        },
        {
          "output_type": "stream",
          "name": "stdout",
          "text": [
            "Epoch 01  Train loss: 0.074574  Val loss: 0.045176\n",
            "Validation loss improved from inf to 0.045176\n",
            "Epoch 02  Train loss: 0.028617  Val loss: 0.023773\n",
            "Validation loss improved from 0.045176 to 0.023773\n",
            "Epoch 03  Train loss: 0.021031  Val loss: 0.021403\n",
            "Validation loss improved from 0.023773 to 0.021403\n",
            "Epoch 04  Train loss: 0.017505  Val loss: 0.017327\n",
            "Validation loss improved from 0.021403 to 0.017327\n",
            "Epoch 05  Train loss: 0.012883  Val loss: 0.010676\n",
            "Validation loss improved from 0.017327 to 0.010676\n",
            "Epoch 06  Train loss: 0.008957  Val loss: 0.008353\n",
            "Validation loss improved from 0.010676 to 0.008353\n",
            "Epoch 07  Train loss: 0.006863  Val loss: 0.006779\n",
            "Validation loss improved from 0.008353 to 0.006779\n",
            "Epoch 08  Train loss: 0.005252  Val loss: 0.005317\n",
            "Validation loss improved from 0.006779 to 0.005317\n",
            "Epoch 09  Train loss: 0.004503  Val loss: 0.004677\n",
            "Validation loss improved from 0.005317 to 0.004677\n",
            "Epoch 10  Train loss: 0.003976  Val loss: 0.004391\n",
            "Validation loss improved from 0.004677 to 0.004391\n",
            "Epoch 11  Train loss: 0.003425  Val loss: 0.003966\n",
            "Validation loss improved from 0.004391 to 0.003966\n",
            "Epoch 12  Train loss: 0.002974  Val loss: 0.003406\n",
            "Validation loss improved from 0.003966 to 0.003406\n",
            "Epoch 13  Train loss: 0.002569  Val loss: 0.002631\n",
            "Validation loss improved from 0.003406 to 0.002631\n",
            "Epoch 14  Train loss: 0.002120  Val loss: 0.002343\n",
            "Validation loss improved from 0.002631 to 0.002343\n",
            "Epoch 15  Train loss: 0.001830  Val loss: 0.001789\n",
            "Validation loss improved from 0.002343 to 0.001789\n",
            "Epoch 16  Train loss: 0.001566  Val loss: 0.001530\n",
            "Validation loss improved from 0.001789 to 0.001530\n",
            "Epoch 17  Train loss: 0.001336  Val loss: 0.001458\n",
            "Validation loss improved from 0.001530 to 0.001458\n",
            "Epoch 18  Train loss: 0.001212  Val loss: 0.001412\n",
            "Validation loss improved from 0.001458 to 0.001412\n",
            "Epoch 19  Train loss: 0.001474  Val loss: 0.001722\n",
            "Epoch 20  Train loss: 0.001337  Val loss: 0.001126\n",
            "Validation loss improved from 0.001412 to 0.001126\n",
            "Epoch 21  Train loss: 0.001195  Val loss: 0.001453\n",
            "Epoch 22  Train loss: 0.001025  Val loss: 0.001009\n",
            "Validation loss improved from 0.001126 to 0.001009\n",
            "Epoch 23  Train loss: 0.000891  Val loss: 0.000873\n",
            "Validation loss improved from 0.001009 to 0.000873\n",
            "Epoch 24  Train loss: 0.000909  Val loss: 0.001030\n",
            "Epoch 25  Train loss: 0.000900  Val loss: 0.000969\n",
            "Epoch 26  Train loss: 0.000853  Val loss: 0.000905\n",
            "Epoch 27  Train loss: 0.000766  Val loss: 0.000819\n",
            "Validation loss improved from 0.000873 to 0.000819\n",
            "Epoch 28  Train loss: 0.000767  Val loss: 0.000769\n",
            "Validation loss improved from 0.000819 to 0.000769\n",
            "Epoch 29  Train loss: 0.000823  Val loss: 0.000836\n",
            "Epoch 30  Train loss: 0.000714  Val loss: 0.000740\n",
            "Validation loss improved from 0.000769 to 0.000740\n",
            "Epoch 31  Train loss: 0.000660  Val loss: 0.000664\n",
            "Validation loss improved from 0.000740 to 0.000664\n",
            "Epoch 32  Train loss: 0.000638  Val loss: 0.000635\n",
            "Validation loss improved from 0.000664 to 0.000635\n",
            "Epoch 33  Train loss: 0.000650  Val loss: 0.000653\n",
            "Epoch 34  Train loss: 0.000684  Val loss: 0.001077\n",
            "Epoch 35  Train loss: 0.001032  Val loss: 0.000804\n",
            "Epoch 36  Train loss: 0.000790  Val loss: 0.000601\n",
            "Validation loss improved from 0.000635 to 0.000601\n",
            "Epoch 37  Train loss: 0.000605  Val loss: 0.000582\n",
            "Validation loss improved from 0.000601 to 0.000582\n",
            "Epoch 38  Train loss: 0.000565  Val loss: 0.000585\n",
            "Epoch 39  Train loss: 0.000551  Val loss: 0.000535\n",
            "Validation loss improved from 0.000582 to 0.000535\n",
            "Epoch 40  Train loss: 0.000541  Val loss: 0.000547\n",
            "Epoch 41  Train loss: 0.000514  Val loss: 0.000559\n",
            "Epoch 42  Train loss: 0.000524  Val loss: 0.000516\n",
            "Validation loss improved from 0.000535 to 0.000516\n",
            "Epoch 43  Train loss: 0.000523  Val loss: 0.000537\n",
            "Epoch 44  Train loss: 0.000531  Val loss: 0.000487\n",
            "Validation loss improved from 0.000516 to 0.000487\n",
            "Epoch 45  Train loss: 0.000529  Val loss: 0.000507\n",
            "Epoch 46  Train loss: 0.000579  Val loss: 0.000566\n",
            "Epoch 47  Train loss: 0.000513  Val loss: 0.000523\n",
            "Epoch 48  Train loss: 0.000493  Val loss: 0.000491\n",
            "Epoch 49  Train loss: 0.000471  Val loss: 0.000424\n",
            "Validation loss improved from 0.000487 to 0.000424\n",
            "Epoch 50  Train loss: 0.000450  Val loss: 0.000471\n"
          ]
        }
      ]
    },
    {
      "cell_type": "code",
      "source": [
        "CHECKPOINT_PATH = \"srcnn_checkpoint.pth\"\n",
        "print(f\"Best epoch: {best_epoch}\")\n",
        "print(f\"Best validation loss: {best_val_loss}\")\n",
        "torch.save({\n",
        "    'epoch': best_epoch,\n",
        "    'model_state_dict': best_model_state,\n",
        "    'optimizer_state_dict': best_optim_state,\n",
        "    'loss': best_val_loss,\n",
        "}, CHECKPOINT_PATH)\n",
        "ckpt = torch.load(CHECKPOINT_PATH, map_location=device)\n",
        "new_model = SR_CNN().to(device)\n",
        "new_model.load_state_dict(ckpt[\"model_state_dict\"])\n",
        "new_model.to(device).eval()"
      ],
      "metadata": {
        "colab": {
          "base_uri": "https://localhost:8080/"
        },
        "id": "iGQDhSa5vJpN",
        "outputId": "7ad870b2-8f6c-4f0c-cfbb-55a6a7809028"
      },
      "execution_count": null,
      "outputs": [
        {
          "output_type": "stream",
          "name": "stdout",
          "text": [
            "Best epoch: 49\n",
            "Best validation loss: 0.00042407399115081015\n"
          ]
        },
        {
          "output_type": "execute_result",
          "data": {
            "text/plain": [
              "SR_CNN(\n",
              "  (darknet): Sequential(\n",
              "    (0): Conv2d(3, 64, kernel_size=(9, 9), stride=(1, 1), padding=(4, 4))\n",
              "    (1): ReLU(inplace=True)\n",
              "    (2): Conv2d(64, 32, kernel_size=(1, 1), stride=(1, 1))\n",
              "    (3): ReLU(inplace=True)\n",
              "    (4): Conv2d(32, 3, kernel_size=(5, 5), stride=(1, 1), padding=(2, 2))\n",
              "  )\n",
              ")"
            ]
          },
          "metadata": {},
          "execution_count": 7
        }
      ]
    },
    {
      "cell_type": "code",
      "source": [
        "save_dir = \"drive/MyDrive/content/SR_outputs/\"\n",
        "os.makedirs(save_dir, exist_ok=True)\n",
        "\n",
        "with torch.no_grad():\n",
        "    for idx, batch in enumerate(test_loader):\n",
        "        inputs, targets = batch[0].to(device), batch[1].to(device)\n",
        "        outputs = new_model(inputs)\n",
        "\n",
        "        for i in range(outputs.size(0)):\n",
        "            output_img = outputs[i].cpu().clamp(0.0, 1.0)\n",
        "            tmp = idx * test_loader.batch_size + i + 1\n",
        "            if tmp // 10 != 0:\n",
        "              save_path = os.path.join(save_dir, f\"SR_output_{idx * test_loader.batch_size + i + 1}.png\")\n",
        "            else:\n",
        "              save_path = os.path.join(save_dir, f\"SR_output_0{idx * test_loader.batch_size + i + 1}.png\")\n",
        "            TF.to_pil_image(output_img).save(save_path)\n",
        "\n",
        "random_idx = random.randint(0, len(test_ds) - 1)\n",
        "print(f\"Random index: {random_idx}\")\n",
        "input, target = test_ds[random_idx]\n",
        "output = new_model(input.unsqueeze(0).to(device))\n",
        "output = output.squeeze(0).cpu().detach()\n",
        "output = output.clamp(0.0, 1.0)\n",
        "\n",
        "plt.figure(figsize=(15, 5))\n",
        "plt.subplot(1, 3, 1)\n",
        "plt.imshow(TF.to_pil_image(input))\n",
        "plt.title(\"Input (LR)\")\n",
        "\n",
        "plt.subplot(1, 3, 2)\n",
        "plt.imshow(TF.to_pil_image(target))\n",
        "plt.title(\"Target (HR)\")\n",
        "\n",
        "plt.subplot(1, 3, 3)\n",
        "plt.imshow(TF.to_pil_image(output))\n",
        "plt.title(\"Output (Predicted HR)\")\n",
        "\n",
        "plt.show()"
      ],
      "metadata": {
        "colab": {
          "base_uri": "https://localhost:8080/",
          "height": 441
        },
        "id": "Lgmb3RuKvLDw",
        "outputId": "2328bdf5-923a-4134-fbbf-81c220cdfd0e"
      },
      "execution_count": null,
      "outputs": [
        {
          "output_type": "stream",
          "name": "stdout",
          "text": [
            "Random index: 3\n"
          ]
        },
        {
          "output_type": "display_data",
          "data": {
            "text/plain": [
              "<Figure size 1500x500 with 3 Axes>"
            ],
            "image/png": "[encoded data removed]"
          },
          "metadata": {}
        }
      ]
    }
  ]
}